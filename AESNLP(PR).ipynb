{
  "cells": [
    {
      "cell_type": "code",
      "execution_count": null,
      "metadata": {
        "id": "SydZolqazy_B"
      },
      "outputs": [],
      "source": [
        "import pandas as pd\n",
        "import os\n",
        "import numpy as np"
      ]
    },
    {
      "cell_type": "code",
      "source": [
        "from google.colab import drive\n",
        "drive.mount('/content/drive')"
      ],
      "metadata": {
        "colab": {
          "base_uri": "https://localhost:8080/"
        },
        "id": "GXkfjmbCqMrw",
        "outputId": "abd146b3-a553-40d1-d1d7-8809e76936b6"
      },
      "execution_count": null,
      "outputs": [
        {
          "output_type": "stream",
          "name": "stdout",
          "text": [
            "Drive already mounted at /content/drive; to attempt to forcibly remount, call drive.mount(\"/content/drive\", force_remount=True).\n"
          ]
        }
      ]
    },
    {
      "cell_type": "code",
      "execution_count": null,
      "metadata": {
        "id": "Va5nMSO_0_Wu",
        "colab": {
          "base_uri": "https://localhost:8080/",
          "height": 424
        },
        "outputId": "8bc0343c-c85b-471c-dc58-6f0ecfef8ddb"
      },
      "outputs": [
        {
          "output_type": "execute_result",
          "data": {
            "text/plain": [
              "      iD                                           Response  Reviewer-1  \\\n",
              "0      1  An operating system (OS) is system software th...           4   \n",
              "1      1  An operating system is the most important soft...           5   \n",
              "2      1  Collection of programs that manages hardware r...           2   \n",
              "3      1      It is an interface user and machine(hardware)           2   \n",
              "4      1  An operating system is a software which acts a...           3   \n",
              "...   ..                                                ...         ...   \n",
              "2385   5  Single processor contains only one processer.w...           2   \n",
              "2386   5  Single processor systems are less reliable tha...           3   \n",
              "2387   5  Single processor system contains only one proc...           2   \n",
              "2388   5  Single processor can assign only one task but ...           1   \n",
              "2389   5  Single Processor\\n-> Uses a single cpu\\n-> Eas...           2   \n",
              "\n",
              "      Reviewer-2  word choice  Organization  \n",
              "0              4          3.0           1.0  \n",
              "1              5          2.0           3.0  \n",
              "2              1          1.0           1.0  \n",
              "3              1          1.0           0.0  \n",
              "4              2          2.0           1.0  \n",
              "...          ...          ...           ...  \n",
              "2385           2          NaN           NaN  \n",
              "2386           3          NaN           NaN  \n",
              "2387           2          NaN           NaN  \n",
              "2388           1          NaN           NaN  \n",
              "2389           2          NaN           NaN  \n",
              "\n",
              "[2390 rows x 6 columns]"
            ],
            "text/html": [
              "\n",
              "  <div id=\"df-09214217-f4f8-4b93-b36a-c44ac348faef\">\n",
              "    <div class=\"colab-df-container\">\n",
              "      <div>\n",
              "<style scoped>\n",
              "    .dataframe tbody tr th:only-of-type {\n",
              "        vertical-align: middle;\n",
              "    }\n",
              "\n",
              "    .dataframe tbody tr th {\n",
              "        vertical-align: top;\n",
              "    }\n",
              "\n",
              "    .dataframe thead th {\n",
              "        text-align: right;\n",
              "    }\n",
              "</style>\n",
              "<table border=\"1\" class=\"dataframe\">\n",
              "  <thead>\n",
              "    <tr style=\"text-align: right;\">\n",
              "      <th></th>\n",
              "      <th>iD</th>\n",
              "      <th>Response</th>\n",
              "      <th>Reviewer-1</th>\n",
              "      <th>Reviewer-2</th>\n",
              "      <th>word choice</th>\n",
              "      <th>Organization</th>\n",
              "    </tr>\n",
              "  </thead>\n",
              "  <tbody>\n",
              "    <tr>\n",
              "      <th>0</th>\n",
              "      <td>1</td>\n",
              "      <td>An operating system (OS) is system software th...</td>\n",
              "      <td>4</td>\n",
              "      <td>4</td>\n",
              "      <td>3.0</td>\n",
              "      <td>1.0</td>\n",
              "    </tr>\n",
              "    <tr>\n",
              "      <th>1</th>\n",
              "      <td>1</td>\n",
              "      <td>An operating system is the most important soft...</td>\n",
              "      <td>5</td>\n",
              "      <td>5</td>\n",
              "      <td>2.0</td>\n",
              "      <td>3.0</td>\n",
              "    </tr>\n",
              "    <tr>\n",
              "      <th>2</th>\n",
              "      <td>1</td>\n",
              "      <td>Collection of programs that manages hardware r...</td>\n",
              "      <td>2</td>\n",
              "      <td>1</td>\n",
              "      <td>1.0</td>\n",
              "      <td>1.0</td>\n",
              "    </tr>\n",
              "    <tr>\n",
              "      <th>3</th>\n",
              "      <td>1</td>\n",
              "      <td>It is an interface user and machine(hardware)</td>\n",
              "      <td>2</td>\n",
              "      <td>1</td>\n",
              "      <td>1.0</td>\n",
              "      <td>0.0</td>\n",
              "    </tr>\n",
              "    <tr>\n",
              "      <th>4</th>\n",
              "      <td>1</td>\n",
              "      <td>An operating system is a software which acts a...</td>\n",
              "      <td>3</td>\n",
              "      <td>2</td>\n",
              "      <td>2.0</td>\n",
              "      <td>1.0</td>\n",
              "    </tr>\n",
              "    <tr>\n",
              "      <th>...</th>\n",
              "      <td>...</td>\n",
              "      <td>...</td>\n",
              "      <td>...</td>\n",
              "      <td>...</td>\n",
              "      <td>...</td>\n",
              "      <td>...</td>\n",
              "    </tr>\n",
              "    <tr>\n",
              "      <th>2385</th>\n",
              "      <td>5</td>\n",
              "      <td>Single processor contains only one processer.w...</td>\n",
              "      <td>2</td>\n",
              "      <td>2</td>\n",
              "      <td>NaN</td>\n",
              "      <td>NaN</td>\n",
              "    </tr>\n",
              "    <tr>\n",
              "      <th>2386</th>\n",
              "      <td>5</td>\n",
              "      <td>Single processor systems are less reliable tha...</td>\n",
              "      <td>3</td>\n",
              "      <td>3</td>\n",
              "      <td>NaN</td>\n",
              "      <td>NaN</td>\n",
              "    </tr>\n",
              "    <tr>\n",
              "      <th>2387</th>\n",
              "      <td>5</td>\n",
              "      <td>Single processor system contains only one proc...</td>\n",
              "      <td>2</td>\n",
              "      <td>2</td>\n",
              "      <td>NaN</td>\n",
              "      <td>NaN</td>\n",
              "    </tr>\n",
              "    <tr>\n",
              "      <th>2388</th>\n",
              "      <td>5</td>\n",
              "      <td>Single processor can assign only one task but ...</td>\n",
              "      <td>1</td>\n",
              "      <td>1</td>\n",
              "      <td>NaN</td>\n",
              "      <td>NaN</td>\n",
              "    </tr>\n",
              "    <tr>\n",
              "      <th>2389</th>\n",
              "      <td>5</td>\n",
              "      <td>Single Processor\\n-&gt; Uses a single cpu\\n-&gt; Eas...</td>\n",
              "      <td>2</td>\n",
              "      <td>2</td>\n",
              "      <td>NaN</td>\n",
              "      <td>NaN</td>\n",
              "    </tr>\n",
              "  </tbody>\n",
              "</table>\n",
              "<p>2390 rows × 6 columns</p>\n",
              "</div>\n",
              "      <button class=\"colab-df-convert\" onclick=\"convertToInteractive('df-09214217-f4f8-4b93-b36a-c44ac348faef')\"\n",
              "              title=\"Convert this dataframe to an interactive table.\"\n",
              "              style=\"display:none;\">\n",
              "        \n",
              "  <svg xmlns=\"http://www.w3.org/2000/svg\" height=\"24px\"viewBox=\"0 0 24 24\"\n",
              "       width=\"24px\">\n",
              "    <path d=\"M0 0h24v24H0V0z\" fill=\"none\"/>\n",
              "    <path d=\"M18.56 5.44l.94 2.06.94-2.06 2.06-.94-2.06-.94-.94-2.06-.94 2.06-2.06.94zm-11 1L8.5 8.5l.94-2.06 2.06-.94-2.06-.94L8.5 2.5l-.94 2.06-2.06.94zm10 10l.94 2.06.94-2.06 2.06-.94-2.06-.94-.94-2.06-.94 2.06-2.06.94z\"/><path d=\"M17.41 7.96l-1.37-1.37c-.4-.4-.92-.59-1.43-.59-.52 0-1.04.2-1.43.59L10.3 9.45l-7.72 7.72c-.78.78-.78 2.05 0 2.83L4 21.41c.39.39.9.59 1.41.59.51 0 1.02-.2 1.41-.59l7.78-7.78 2.81-2.81c.8-.78.8-2.07 0-2.86zM5.41 20L4 18.59l7.72-7.72 1.47 1.35L5.41 20z\"/>\n",
              "  </svg>\n",
              "      </button>\n",
              "      \n",
              "  <style>\n",
              "    .colab-df-container {\n",
              "      display:flex;\n",
              "      flex-wrap:wrap;\n",
              "      gap: 12px;\n",
              "    }\n",
              "\n",
              "    .colab-df-convert {\n",
              "      background-color: #E8F0FE;\n",
              "      border: none;\n",
              "      border-radius: 50%;\n",
              "      cursor: pointer;\n",
              "      display: none;\n",
              "      fill: #1967D2;\n",
              "      height: 32px;\n",
              "      padding: 0 0 0 0;\n",
              "      width: 32px;\n",
              "    }\n",
              "\n",
              "    .colab-df-convert:hover {\n",
              "      background-color: #E2EBFA;\n",
              "      box-shadow: 0px 1px 2px rgba(60, 64, 67, 0.3), 0px 1px 3px 1px rgba(60, 64, 67, 0.15);\n",
              "      fill: #174EA6;\n",
              "    }\n",
              "\n",
              "    [theme=dark] .colab-df-convert {\n",
              "      background-color: #3B4455;\n",
              "      fill: #D2E3FC;\n",
              "    }\n",
              "\n",
              "    [theme=dark] .colab-df-convert:hover {\n",
              "      background-color: #434B5C;\n",
              "      box-shadow: 0px 1px 3px 1px rgba(0, 0, 0, 0.15);\n",
              "      filter: drop-shadow(0px 1px 2px rgba(0, 0, 0, 0.3));\n",
              "      fill: #FFFFFF;\n",
              "    }\n",
              "  </style>\n",
              "\n",
              "      <script>\n",
              "        const buttonEl =\n",
              "          document.querySelector('#df-09214217-f4f8-4b93-b36a-c44ac348faef button.colab-df-convert');\n",
              "        buttonEl.style.display =\n",
              "          google.colab.kernel.accessAllowed ? 'block' : 'none';\n",
              "\n",
              "        async function convertToInteractive(key) {\n",
              "          const element = document.querySelector('#df-09214217-f4f8-4b93-b36a-c44ac348faef');\n",
              "          const dataTable =\n",
              "            await google.colab.kernel.invokeFunction('convertToInteractive',\n",
              "                                                     [key], {});\n",
              "          if (!dataTable) return;\n",
              "\n",
              "          const docLinkHtml = 'Like what you see? Visit the ' +\n",
              "            '<a target=\"_blank\" href=https://colab.research.google.com/notebooks/data_table.ipynb>data table notebook</a>'\n",
              "            + ' to learn more about interactive tables.';\n",
              "          element.innerHTML = '';\n",
              "          dataTable['output_type'] = 'display_data';\n",
              "          await google.colab.output.renderOutput(dataTable, element);\n",
              "          const docLink = document.createElement('div');\n",
              "          docLink.innerHTML = docLinkHtml;\n",
              "          element.appendChild(docLink);\n",
              "        }\n",
              "      </script>\n",
              "    </div>\n",
              "  </div>\n",
              "  "
            ]
          },
          "metadata": {},
          "execution_count": 4
        }
      ],
      "source": [
        "X = pd.read_csv('/content/drive/MyDrive/Colab Notebooks/OSNLP.csv',encoding=\"ISO-8859-1\")\n",
        "X"
      ]
    },
    {
      "cell_type": "code",
      "execution_count": null,
      "metadata": {
        "colab": {
          "base_uri": "https://localhost:8080/"
        },
        "id": "WOSAtI162KY9",
        "outputId": "6e567c26-a8ab-4f60-9354-2c377a95531c"
      },
      "outputs": [
        {
          "output_type": "stream",
          "name": "stdout",
          "text": [
            "      Reviewer-2  word choice  Organization\n",
            "0              4          3.0           1.0\n",
            "1              5          2.0           3.0\n",
            "2              1          1.0           1.0\n",
            "3              1          1.0           0.0\n",
            "4              2          2.0           1.0\n",
            "...          ...          ...           ...\n",
            "2385           2          NaN           NaN\n",
            "2386           3          NaN           NaN\n",
            "2387           2          NaN           NaN\n",
            "2388           1          NaN           NaN\n",
            "2389           2          NaN           NaN\n",
            "\n",
            "[2390 rows x 3 columns]\n"
          ]
        }
      ],
      "source": [
        "y = X.iloc[:,3:6]\n",
        "X = X.dropna(axis=1)\n",
        "\n",
        "print(y)"
      ]
    },
    {
      "cell_type": "code",
      "execution_count": null,
      "metadata": {
        "id": "yw-9pWAo3bTh"
      },
      "outputs": [],
      "source": [
        "from keras.layers import Embedding, LSTM, Dense, Dropout, Lambda, Flatten\n",
        "from keras.models import Sequential, load_model, model_from_config\n",
        "import keras.backend as K\n",
        "\n",
        "def get_model():\n",
        "    \"\"\"Define the model.\"\"\"\n",
        "    model = Sequential()\n",
        "    model.add(LSTM(300,dropout=0.5,recurrent_dropout=0.4, input_shape=[1, 2944], return_sequences=True))\n",
        "    #model.add(LSTM(300, dropout=0.5, recurrent_dropout=0.4, return_sequences=True))\n",
        "    model.add(LSTM(200, dropout=0.5, recurrent_dropout=0.4, return_sequences=True))\n",
        "    model.add(LSTM(100, return_sequences=True))\n",
        "    model.add(LSTM(64, recurrent_dropout=0.4))\n",
        "    model.add(Dropout(0.4))\n",
        "    model.add(Dense(3, activation='relu'))\n",
        "    model.compile(loss='mean_squared_error', optimizer=tf.optimizers.Adam(lr=0.001),metrics=['accuracy'])\n",
        "    #model.compile(loss='mean_squared_error', optimizer='rmsprop', metrics=['accuracy'])\n",
        "    model.summary()\n",
        "\n",
        "    return model"
      ]
    },
    {
      "cell_type": "code",
      "execution_count": null,
      "metadata": {
        "id": "EvHVYPGE3hNY"
      },
      "outputs": [],
      "source": [
        "import tensorflow_hub as hub\n",
        "\n",
        "use = hub.KerasLayer(\"https://tfhub.dev/google/nnlm-en-dim128/2\")\n",
        "aa=[]"
      ]
    },
    {
      "cell_type": "code",
      "execution_count": null,
      "metadata": {
        "colab": {
          "base_uri": "https://localhost:8080/"
        },
        "id": "JiFHOR-n3n00",
        "outputId": "f71bea27-ec14-4d4b-cdf4-a1aed2396ab6"
      },
      "outputs": [
        {
          "output_type": "stream",
          "name": "stderr",
          "text": [
            "[nltk_data] Downloading package punkt to /root/nltk_data...\n",
            "[nltk_data]   Unzipping tokenizers/punkt.zip.\n"
          ]
        },
        {
          "output_type": "execute_result",
          "data": {
            "text/plain": [
              "True"
            ]
          },
          "metadata": {},
          "execution_count": 8
        }
      ],
      "source": [
        "import numpy as np\n",
        "import nltk\n",
        "import re\n",
        "from nltk.corpus import stopwords\n",
        "from gensim.models import Word2Vec\n",
        "from nltk.tokenize import PunktSentenceTokenizer\n",
        "from nltk.tokenize import sent_tokenize\n",
        "nltk.download('punkt')"
      ]
    },
    {
      "cell_type": "code",
      "execution_count": null,
      "metadata": {
        "id": "8ubaq2EU3xAX"
      },
      "outputs": [],
      "source": [
        "def essay_to_sentences(essay_v, remove_stopwords):\n",
        "    \"\"\"Sentence tokenize the essay and call essay_to_wordlist() for word tokenization.\"\"\"\n",
        "    tokenizer = nltk.data.load('tokenizers/punkt/english.pickle')\n",
        "    #tokennizer=PunktSentenceTokenizer(english.pickle)\n",
        "    raw_sentences = tokenizer.tokenize(essay_v.strip())\n",
        "    sentences = []\n",
        "    for raw_sentence in raw_sentences:\n",
        "        if len(raw_sentence) > 0:\n",
        "            sentences.append((raw_sentence))\n",
        "    #print(sentences)\n",
        "    return sentences\n",
        "\n",
        "def makeFeatureVec(words, num_features,n):\n",
        "    \"\"\"Make Feature Vector from the words list of an Essay.\"\"\"\n",
        "    featureVec = np.zeros((n,num_features),dtype=\"float32\")\n",
        "    #success\n",
        "    x=use(words) #length of feature vector is (16,512) and length of use is (16,128)\n",
        "    y=len(x[0])\n",
        "#     featureVec = np.zeros((n,num_features),dtype=\"float32\")\n",
        "    featureVec = np.zeros((n,y),dtype=\"float32\")\n",
        "    featureVec = np.add(featureVec,x).flatten() # getting error while adding vectors\n",
        "    ss=num_features-y\n",
        "#     print(\"diff=\",ss)\n",
        "    featureVec = np.pad(featureVec, (0,ss), 'constant', constant_values=(0, 0))\n",
        "#     print(\"AFTER PADDING\",featureVec,len(featureVec))\n",
        "#     print(\"SHAPE\",featureVec.shape)     \n",
        "    #featureVec = np.divide(featureVec,num_words)\n",
        "    return featureVec\n",
        "\n",
        "def getAvgFeatureVecs(essays, num_features,aa):\n",
        "    \"\"\"Main function to generate the word vectors for word2vec model.\"\"\"\n",
        "    counter = 0\n",
        "    essayFeatureVecs = np.zeros((len(essays),num_features*23),dtype=\"float32\") # creating max length feature vector having 0s\n",
        "#     print(num_features*96)\n",
        "    for essay in essays:\n",
        "        \n",
        "#         #essayFeatureVecs.insert(counter,makeFeatureVec(essay,num_features,aa[counter]))\n",
        "        arr=makeFeatureVec(essay, num_features,aa[counter]).flatten() # getting error here\n",
        "#         print(arr)\n",
        "        ss=(num_features*23)-len(arr)\n",
        "        arr1=np.pad(arr,(0,ss),'constant', constant_values=(0, 0))\n",
        "#         #print(np.add(arr1,np.zeros(num_features*np.max(aa))))\n",
        "        essayFeatureVecs[counter] = np.add(arr1,np.zeros((num_features*23),dtype=\"float\"))\n",
        "#         #makeFeatureVec(essay, num_features,aa[counter]).flatten()\n",
        "#         #print(essayFeatureVecs[0])\n",
        "        counter = counter + 1\n",
        "    return essayFeatureVecs"
      ]
    },
    {
      "cell_type": "code",
      "execution_count": null,
      "metadata": {
        "colab": {
          "base_uri": "https://localhost:8080/",
          "height": 1000
        },
        "id": "W-6-TjSM33GG",
        "outputId": "3b83fd15-fde3-4766-9c65-f221923c3b9e"
      },
      "outputs": [
        {
          "output_type": "stream",
          "name": "stdout",
          "text": [
            "\n",
            "--------Fold 1--------\n",
            "\n",
            "23\n"
          ]
        },
        {
          "output_type": "stream",
          "name": "stderr",
          "text": [
            "WARNING:tensorflow:Layer lstm will not use cuDNN kernels since it doesn't meet the criteria. It will use a generic GPU kernel as fallback when running on GPU.\n"
          ]
        },
        {
          "output_type": "stream",
          "name": "stdout",
          "text": [
            "[ 4  1  1  1  1  2  1  1  2  3  1  1  1  2  2  2  1  1  7  2  2  1  1  1\n",
            "  1  4  1  1  1  1  1  1  4  2  1  3  6  4  4  1  2  1  1  1  1  1  1  1\n",
            "  1  1  4  1  1  1  1  1  2  1  1  5  2  3  1  1  1  1  3  1  1  1  1  4\n",
            "  2  2  1  1  1  1  4  1  1  1  1  1  4  2  1  1  3  1  1  1  5  1  2  2\n",
            "  1  1  1  1  1  1  1  3  1  1  2  2  2  1  1  1  1 10  1  4  7  1  1  1\n",
            "  9  5  9  7  1  1  2  1  2  1  1  2  2  1  9  3  8  1  2  5  1 10  9  1\n",
            "  9  1  1  3  6  4  3  3  4  6  2  2  7  1  5  7  2  1  1  1  1  8  1  1\n",
            "  1  1  1  5  1  5  1  1  1  1  1  2  4  1  3  1  1  2  1  2  5  6  1  5\n",
            "  1  1  3  3  7  1  1  1  1  1  6  4  1  2  1  2  5  2  5  5  1  2  2  1\n",
            "  2  1  1  3  1  1  1  1  2  1  1  1  1  1  1  2  1  2  1  1  7  1  1  1\n",
            "  1 16  1  2  2  1  1 12  2  2  2  1  4  3  1  1  8  1  3  1  1  1  2  3\n",
            "  1  1  1  3  1  2  1  1  1  9  3  1  4  2  7  2  3  1  1  1  1  1  2  1\n",
            "  3  1  2  1  3  1  1  2  2  1  1  1  2  1  2  2  1  1  1  5  2  1  1  2\n",
            "  1  7  4  3  2  2  1  2  1  2  2  1  2  1  2  6  1  1  2  1  1  2  1  1\n",
            "  1  1  1  1  2  2  2  1  2  3  1  1  1  2  2  1  1  2  1  2  1  3  3  2\n",
            "  2  1  6  1  1  1  1  1  3  3  1  1  1  1  1  1  2  2  1  1  2 14  1  5\n",
            "  5  3  1  1  1 15  6  1  3  1 21  3  1  3  2  1  3  3  2  5  1  3  1  5\n",
            "  2  3  4  5  1  3  3  1  2  1  3  4  1  8  3  5  3  1  1  2  1  1  2  2\n",
            "  2  2  1  1  1  1  1  1  1  3  1  2  2  2  1  2  1  1  1  3  2  8  2  4\n",
            "  2  1  1  1  1  1  1  2  2  1  2  1  1  2  1  1  2  1  1  3  2  1]\n"
          ]
        },
        {
          "output_type": "stream",
          "name": "stderr",
          "text": [
            "WARNING:tensorflow:Layer lstm_1 will not use cuDNN kernels since it doesn't meet the criteria. It will use a generic GPU kernel as fallback when running on GPU.\n",
            "WARNING:tensorflow:Layer lstm_3 will not use cuDNN kernels since it doesn't meet the criteria. It will use a generic GPU kernel as fallback when running on GPU.\n"
          ]
        },
        {
          "output_type": "stream",
          "name": "stdout",
          "text": [
            "Model: \"sequential\"\n",
            "_________________________________________________________________\n",
            " Layer (type)                Output Shape              Param #   \n",
            "=================================================================\n",
            " lstm (LSTM)                 (None, 1, 300)            3894000   \n",
            "                                                                 \n",
            " lstm_1 (LSTM)               (None, 1, 200)            400800    \n",
            "                                                                 \n",
            " lstm_2 (LSTM)               (None, 1, 100)            120400    \n",
            "                                                                 \n",
            " lstm_3 (LSTM)               (None, 64)                42240     \n",
            "                                                                 \n",
            " dropout (Dropout)           (None, 64)                0         \n",
            "                                                                 \n",
            " dense (Dense)               (None, 3)                 195       \n",
            "                                                                 \n",
            "=================================================================\n",
            "Total params: 4,457,635\n",
            "Trainable params: 4,457,635\n",
            "Non-trainable params: 0\n",
            "_________________________________________________________________\n"
          ]
        },
        {
          "output_type": "stream",
          "name": "stderr",
          "text": [
            "/usr/local/lib/python3.7/dist-packages/keras/optimizers/optimizer_v2/adam.py:110: UserWarning: The `lr` argument is deprecated, use `learning_rate` instead.\n",
            "  super(Adam, self).__init__(name, **kwargs)\n"
          ]
        },
        {
          "output_type": "stream",
          "name": "stdout",
          "text": [
            "Epoch 1/50\n",
            "96/96 [==============================] - 16s 34ms/step - loss: nan - accuracy: 0.9529 - val_loss: nan - val_accuracy: 0.9765\n",
            "Epoch 2/50\n",
            "96/96 [==============================] - 2s 23ms/step - loss: nan - accuracy: 0.9588 - val_loss: nan - val_accuracy: 0.9765\n",
            "Epoch 3/50\n",
            "96/96 [==============================] - 2s 24ms/step - loss: nan - accuracy: 0.9588 - val_loss: nan - val_accuracy: 0.9765\n",
            "Epoch 4/50\n",
            "96/96 [==============================] - 3s 35ms/step - loss: nan - accuracy: 0.9588 - val_loss: nan - val_accuracy: 0.9765\n",
            "Epoch 5/50\n",
            "96/96 [==============================] - 2s 24ms/step - loss: nan - accuracy: 0.9588 - val_loss: nan - val_accuracy: 0.9765\n",
            "Epoch 6/50\n",
            "96/96 [==============================] - 2s 23ms/step - loss: nan - accuracy: 0.9588 - val_loss: nan - val_accuracy: 0.9765\n",
            "Epoch 7/50\n",
            "96/96 [==============================] - 2s 23ms/step - loss: nan - accuracy: 0.9588 - val_loss: nan - val_accuracy: 0.9765\n",
            "Epoch 8/50\n",
            "96/96 [==============================] - 2s 23ms/step - loss: nan - accuracy: 0.9588 - val_loss: nan - val_accuracy: 0.9765\n",
            "Epoch 9/50\n",
            "96/96 [==============================] - 2s 24ms/step - loss: nan - accuracy: 0.9588 - val_loss: nan - val_accuracy: 0.9765\n",
            "Epoch 10/50\n",
            "96/96 [==============================] - 2s 23ms/step - loss: nan - accuracy: 0.9588 - val_loss: nan - val_accuracy: 0.9765\n",
            "Epoch 11/50\n",
            "96/96 [==============================] - 2s 23ms/step - loss: nan - accuracy: 0.9588 - val_loss: nan - val_accuracy: 0.9765\n",
            "Epoch 12/50\n",
            "96/96 [==============================] - 2s 23ms/step - loss: nan - accuracy: 0.9588 - val_loss: nan - val_accuracy: 0.9765\n",
            "Epoch 13/50\n",
            "96/96 [==============================] - 2s 23ms/step - loss: nan - accuracy: 0.9588 - val_loss: nan - val_accuracy: 0.9765\n",
            "Epoch 14/50\n",
            "96/96 [==============================] - 2s 24ms/step - loss: nan - accuracy: 0.9588 - val_loss: nan - val_accuracy: 0.9765\n",
            "Epoch 15/50\n",
            "96/96 [==============================] - 2s 23ms/step - loss: nan - accuracy: 0.9588 - val_loss: nan - val_accuracy: 0.9765\n",
            "Epoch 16/50\n",
            "96/96 [==============================] - 2s 23ms/step - loss: nan - accuracy: 0.9588 - val_loss: nan - val_accuracy: 0.9765\n",
            "Epoch 17/50\n",
            "96/96 [==============================] - 2s 24ms/step - loss: nan - accuracy: 0.9588 - val_loss: nan - val_accuracy: 0.9765\n",
            "Epoch 18/50\n",
            "96/96 [==============================] - 2s 23ms/step - loss: nan - accuracy: 0.9588 - val_loss: nan - val_accuracy: 0.9765\n",
            "Epoch 19/50\n",
            "96/96 [==============================] - 2s 24ms/step - loss: nan - accuracy: 0.9588 - val_loss: nan - val_accuracy: 0.9765\n",
            "Epoch 20/50\n",
            "96/96 [==============================] - 2s 23ms/step - loss: nan - accuracy: 0.9588 - val_loss: nan - val_accuracy: 0.9765\n",
            "Epoch 21/50\n",
            "96/96 [==============================] - 2s 23ms/step - loss: nan - accuracy: 0.9588 - val_loss: nan - val_accuracy: 0.9765\n",
            "Epoch 22/50\n",
            "96/96 [==============================] - 2s 23ms/step - loss: nan - accuracy: 0.9588 - val_loss: nan - val_accuracy: 0.9765\n",
            "Epoch 23/50\n",
            "96/96 [==============================] - 2s 24ms/step - loss: nan - accuracy: 0.9588 - val_loss: nan - val_accuracy: 0.9765\n",
            "Epoch 24/50\n",
            "96/96 [==============================] - 2s 23ms/step - loss: nan - accuracy: 0.9588 - val_loss: nan - val_accuracy: 0.9765\n",
            "Epoch 25/50\n",
            "96/96 [==============================] - 2s 23ms/step - loss: nan - accuracy: 0.9588 - val_loss: nan - val_accuracy: 0.9765\n",
            "Epoch 26/50\n",
            "96/96 [==============================] - 2s 24ms/step - loss: nan - accuracy: 0.9588 - val_loss: nan - val_accuracy: 0.9765\n",
            "Epoch 27/50\n",
            "96/96 [==============================] - 2s 24ms/step - loss: nan - accuracy: 0.9588 - val_loss: nan - val_accuracy: 0.9765\n",
            "Epoch 28/50\n",
            "96/96 [==============================] - 2s 23ms/step - loss: nan - accuracy: 0.9588 - val_loss: nan - val_accuracy: 0.9765\n",
            "Epoch 29/50\n",
            "96/96 [==============================] - 2s 23ms/step - loss: nan - accuracy: 0.9588 - val_loss: nan - val_accuracy: 0.9765\n",
            "Epoch 30/50\n",
            "96/96 [==============================] - 2s 23ms/step - loss: nan - accuracy: 0.9588 - val_loss: nan - val_accuracy: 0.9765\n",
            "Epoch 31/50\n",
            "96/96 [==============================] - 2s 24ms/step - loss: nan - accuracy: 0.9588 - val_loss: nan - val_accuracy: 0.9765\n",
            "Epoch 32/50\n",
            "96/96 [==============================] - 2s 24ms/step - loss: nan - accuracy: 0.9588 - val_loss: nan - val_accuracy: 0.9765\n",
            "Epoch 33/50\n",
            "96/96 [==============================] - 2s 23ms/step - loss: nan - accuracy: 0.9588 - val_loss: nan - val_accuracy: 0.9765\n",
            "Epoch 34/50\n",
            "96/96 [==============================] - 2s 23ms/step - loss: nan - accuracy: 0.9588 - val_loss: nan - val_accuracy: 0.9765\n",
            "Epoch 35/50\n",
            "96/96 [==============================] - 2s 24ms/step - loss: nan - accuracy: 0.9588 - val_loss: nan - val_accuracy: 0.9765\n",
            "Epoch 36/50\n",
            "96/96 [==============================] - 2s 24ms/step - loss: nan - accuracy: 0.9588 - val_loss: nan - val_accuracy: 0.9765\n",
            "Epoch 37/50\n",
            "96/96 [==============================] - 2s 24ms/step - loss: nan - accuracy: 0.9588 - val_loss: nan - val_accuracy: 0.9765\n",
            "Epoch 38/50\n",
            "96/96 [==============================] - 2s 22ms/step - loss: nan - accuracy: 0.9588 - val_loss: nan - val_accuracy: 0.9765\n",
            "Epoch 39/50\n",
            "96/96 [==============================] - 2s 23ms/step - loss: nan - accuracy: 0.9588 - val_loss: nan - val_accuracy: 0.9765\n",
            "Epoch 40/50\n",
            "96/96 [==============================] - 2s 24ms/step - loss: nan - accuracy: 0.9588 - val_loss: nan - val_accuracy: 0.9765\n",
            "Epoch 41/50\n",
            "96/96 [==============================] - 2s 25ms/step - loss: nan - accuracy: 0.9588 - val_loss: nan - val_accuracy: 0.9765\n",
            "Epoch 42/50\n",
            "96/96 [==============================] - 2s 23ms/step - loss: nan - accuracy: 0.9588 - val_loss: nan - val_accuracy: 0.9765\n",
            "Epoch 43/50\n",
            "96/96 [==============================] - 2s 23ms/step - loss: nan - accuracy: 0.9588 - val_loss: nan - val_accuracy: 0.9765\n",
            "Epoch 44/50\n",
            "96/96 [==============================] - 2s 24ms/step - loss: nan - accuracy: 0.9588 - val_loss: nan - val_accuracy: 0.9765\n",
            "Epoch 45/50\n",
            "96/96 [==============================] - 2s 24ms/step - loss: nan - accuracy: 0.9588 - val_loss: nan - val_accuracy: 0.9765\n",
            "Epoch 46/50\n",
            "96/96 [==============================] - 2s 23ms/step - loss: nan - accuracy: 0.9588 - val_loss: nan - val_accuracy: 0.9765\n",
            "Epoch 47/50\n",
            "96/96 [==============================] - 2s 24ms/step - loss: nan - accuracy: 0.9588 - val_loss: nan - val_accuracy: 0.9765\n",
            "Epoch 48/50\n",
            "96/96 [==============================] - 2s 23ms/step - loss: nan - accuracy: 0.9588 - val_loss: nan - val_accuracy: 0.9765\n",
            "Epoch 49/50\n",
            "96/96 [==============================] - 2s 24ms/step - loss: nan - accuracy: 0.9588 - val_loss: nan - val_accuracy: 0.9765\n",
            "Epoch 50/50\n",
            "96/96 [==============================] - 2s 23ms/step - loss: nan - accuracy: 0.9588 - val_loss: nan - val_accuracy: 0.9765\n",
            "15/15 [==============================] - 1s 5ms/step\n"
          ]
        },
        {
          "output_type": "error",
          "ename": "ValueError",
          "evalue": "ignored",
          "traceback": [
            "\u001b[0;31m---------------------------------------------------------------------------\u001b[0m",
            "\u001b[0;31mValueError\u001b[0m                                Traceback (most recent call last)",
            "\u001b[0;32m<ipython-input-10-3b2e7b1958a8>\u001b[0m in \u001b[0;36m<module>\u001b[0;34m\u001b[0m\n\u001b[1;32m     71\u001b[0m \u001b[0;34m\u001b[0m\u001b[0m\n\u001b[1;32m     72\u001b[0m     \u001b[0;31m# Evaluate the model on the evaluation metric. \"Quadratic mean averaged Kappa\"\u001b[0m\u001b[0;34m\u001b[0m\u001b[0;34m\u001b[0m\u001b[0;34m\u001b[0m\u001b[0m\n\u001b[0;32m---> 73\u001b[0;31m     \u001b[0mresult\u001b[0m \u001b[0;34m=\u001b[0m \u001b[0mcohen_kappa_score\u001b[0m\u001b[0;34m(\u001b[0m\u001b[0my_test\u001b[0m\u001b[0;34m,\u001b[0m\u001b[0my_pred\u001b[0m\u001b[0;34m,\u001b[0m\u001b[0mweights\u001b[0m\u001b[0;34m=\u001b[0m\u001b[0;34m'quadratic'\u001b[0m\u001b[0;34m)\u001b[0m\u001b[0;34m\u001b[0m\u001b[0;34m\u001b[0m\u001b[0m\n\u001b[0m\u001b[1;32m     74\u001b[0m     \u001b[0mprint\u001b[0m\u001b[0;34m(\u001b[0m\u001b[0;34m\"Kappa Score: {}\"\u001b[0m\u001b[0;34m.\u001b[0m\u001b[0mformat\u001b[0m\u001b[0;34m(\u001b[0m\u001b[0mresult\u001b[0m\u001b[0;34m)\u001b[0m\u001b[0;34m)\u001b[0m\u001b[0;34m\u001b[0m\u001b[0;34m\u001b[0m\u001b[0m\n\u001b[1;32m     75\u001b[0m     \u001b[0mresults\u001b[0m\u001b[0;34m.\u001b[0m\u001b[0mappend\u001b[0m\u001b[0;34m(\u001b[0m\u001b[0mresult\u001b[0m\u001b[0;34m)\u001b[0m\u001b[0;34m\u001b[0m\u001b[0;34m\u001b[0m\u001b[0m\n",
            "\u001b[0;32m/usr/local/lib/python3.7/dist-packages/sklearn/metrics/_classification.py\u001b[0m in \u001b[0;36mcohen_kappa_score\u001b[0;34m(y1, y2, labels, weights, sample_weight)\u001b[0m\n\u001b[1;32m    642\u001b[0m             \u001b[0;34m<\u001b[0m\u001b[0mhttps\u001b[0m\u001b[0;34m:\u001b[0m\u001b[0;34m//\u001b[0m\u001b[0men\u001b[0m\u001b[0;34m.\u001b[0m\u001b[0mwikipedia\u001b[0m\u001b[0;34m.\u001b[0m\u001b[0morg\u001b[0m\u001b[0;34m/\u001b[0m\u001b[0mwiki\u001b[0m\u001b[0;34m/\u001b[0m\u001b[0mCohen\u001b[0m\u001b[0;34m%\u001b[0m\u001b[0;36m27\u001b[0m\u001b[0ms_kappa\u001b[0m\u001b[0;34m>\u001b[0m\u001b[0;31m`\u001b[0m\u001b[0m_\u001b[0m\u001b[0;34m.\u001b[0m\u001b[0;34m\u001b[0m\u001b[0;34m\u001b[0m\u001b[0m\n\u001b[1;32m    643\u001b[0m     \"\"\"\n\u001b[0;32m--> 644\u001b[0;31m     \u001b[0mconfusion\u001b[0m \u001b[0;34m=\u001b[0m \u001b[0mconfusion_matrix\u001b[0m\u001b[0;34m(\u001b[0m\u001b[0my1\u001b[0m\u001b[0;34m,\u001b[0m \u001b[0my2\u001b[0m\u001b[0;34m,\u001b[0m \u001b[0mlabels\u001b[0m\u001b[0;34m=\u001b[0m\u001b[0mlabels\u001b[0m\u001b[0;34m,\u001b[0m \u001b[0msample_weight\u001b[0m\u001b[0;34m=\u001b[0m\u001b[0msample_weight\u001b[0m\u001b[0;34m)\u001b[0m\u001b[0;34m\u001b[0m\u001b[0;34m\u001b[0m\u001b[0m\n\u001b[0m\u001b[1;32m    645\u001b[0m     \u001b[0mn_classes\u001b[0m \u001b[0;34m=\u001b[0m \u001b[0mconfusion\u001b[0m\u001b[0;34m.\u001b[0m\u001b[0mshape\u001b[0m\u001b[0;34m[\u001b[0m\u001b[0;36m0\u001b[0m\u001b[0;34m]\u001b[0m\u001b[0;34m\u001b[0m\u001b[0;34m\u001b[0m\u001b[0m\n\u001b[1;32m    646\u001b[0m     \u001b[0msum0\u001b[0m \u001b[0;34m=\u001b[0m \u001b[0mnp\u001b[0m\u001b[0;34m.\u001b[0m\u001b[0msum\u001b[0m\u001b[0;34m(\u001b[0m\u001b[0mconfusion\u001b[0m\u001b[0;34m,\u001b[0m \u001b[0maxis\u001b[0m\u001b[0;34m=\u001b[0m\u001b[0;36m0\u001b[0m\u001b[0;34m)\u001b[0m\u001b[0;34m\u001b[0m\u001b[0;34m\u001b[0m\u001b[0m\n",
            "\u001b[0;32m/usr/local/lib/python3.7/dist-packages/sklearn/metrics/_classification.py\u001b[0m in \u001b[0;36mconfusion_matrix\u001b[0;34m(y_true, y_pred, labels, sample_weight, normalize)\u001b[0m\n\u001b[1;32m    305\u001b[0m     \u001b[0;34m(\u001b[0m\u001b[0;36m0\u001b[0m\u001b[0;34m,\u001b[0m \u001b[0;36m2\u001b[0m\u001b[0;34m,\u001b[0m \u001b[0;36m1\u001b[0m\u001b[0;34m,\u001b[0m \u001b[0;36m1\u001b[0m\u001b[0;34m)\u001b[0m\u001b[0;34m\u001b[0m\u001b[0;34m\u001b[0m\u001b[0m\n\u001b[1;32m    306\u001b[0m     \"\"\"\n\u001b[0;32m--> 307\u001b[0;31m     \u001b[0my_type\u001b[0m\u001b[0;34m,\u001b[0m \u001b[0my_true\u001b[0m\u001b[0;34m,\u001b[0m \u001b[0my_pred\u001b[0m \u001b[0;34m=\u001b[0m \u001b[0m_check_targets\u001b[0m\u001b[0;34m(\u001b[0m\u001b[0my_true\u001b[0m\u001b[0;34m,\u001b[0m \u001b[0my_pred\u001b[0m\u001b[0;34m)\u001b[0m\u001b[0;34m\u001b[0m\u001b[0;34m\u001b[0m\u001b[0m\n\u001b[0m\u001b[1;32m    308\u001b[0m     \u001b[0;32mif\u001b[0m \u001b[0my_type\u001b[0m \u001b[0;32mnot\u001b[0m \u001b[0;32min\u001b[0m \u001b[0;34m(\u001b[0m\u001b[0;34m\"binary\"\u001b[0m\u001b[0;34m,\u001b[0m \u001b[0;34m\"multiclass\"\u001b[0m\u001b[0;34m)\u001b[0m\u001b[0;34m:\u001b[0m\u001b[0;34m\u001b[0m\u001b[0;34m\u001b[0m\u001b[0m\n\u001b[1;32m    309\u001b[0m         \u001b[0;32mraise\u001b[0m \u001b[0mValueError\u001b[0m\u001b[0;34m(\u001b[0m\u001b[0;34m\"%s is not supported\"\u001b[0m \u001b[0;34m%\u001b[0m \u001b[0my_type\u001b[0m\u001b[0;34m)\u001b[0m\u001b[0;34m\u001b[0m\u001b[0;34m\u001b[0m\u001b[0m\n",
            "\u001b[0;32m/usr/local/lib/python3.7/dist-packages/sklearn/metrics/_classification.py\u001b[0m in \u001b[0;36m_check_targets\u001b[0;34m(y_true, y_pred)\u001b[0m\n\u001b[1;32m     83\u001b[0m     \"\"\"\n\u001b[1;32m     84\u001b[0m     \u001b[0mcheck_consistent_length\u001b[0m\u001b[0;34m(\u001b[0m\u001b[0my_true\u001b[0m\u001b[0;34m,\u001b[0m \u001b[0my_pred\u001b[0m\u001b[0;34m)\u001b[0m\u001b[0;34m\u001b[0m\u001b[0;34m\u001b[0m\u001b[0m\n\u001b[0;32m---> 85\u001b[0;31m     \u001b[0mtype_true\u001b[0m \u001b[0;34m=\u001b[0m \u001b[0mtype_of_target\u001b[0m\u001b[0;34m(\u001b[0m\u001b[0my_true\u001b[0m\u001b[0;34m)\u001b[0m\u001b[0;34m\u001b[0m\u001b[0;34m\u001b[0m\u001b[0m\n\u001b[0m\u001b[1;32m     86\u001b[0m     \u001b[0mtype_pred\u001b[0m \u001b[0;34m=\u001b[0m \u001b[0mtype_of_target\u001b[0m\u001b[0;34m(\u001b[0m\u001b[0my_pred\u001b[0m\u001b[0;34m)\u001b[0m\u001b[0;34m\u001b[0m\u001b[0;34m\u001b[0m\u001b[0m\n\u001b[1;32m     87\u001b[0m \u001b[0;34m\u001b[0m\u001b[0m\n",
            "\u001b[0;32m/usr/local/lib/python3.7/dist-packages/sklearn/utils/multiclass.py\u001b[0m in \u001b[0;36mtype_of_target\u001b[0;34m(y)\u001b[0m\n\u001b[1;32m    322\u001b[0m     \u001b[0;32mif\u001b[0m \u001b[0my\u001b[0m\u001b[0;34m.\u001b[0m\u001b[0mdtype\u001b[0m\u001b[0;34m.\u001b[0m\u001b[0mkind\u001b[0m \u001b[0;34m==\u001b[0m \u001b[0;34m\"f\"\u001b[0m \u001b[0;32mand\u001b[0m \u001b[0mnp\u001b[0m\u001b[0;34m.\u001b[0m\u001b[0many\u001b[0m\u001b[0;34m(\u001b[0m\u001b[0my\u001b[0m \u001b[0;34m!=\u001b[0m \u001b[0my\u001b[0m\u001b[0;34m.\u001b[0m\u001b[0mastype\u001b[0m\u001b[0;34m(\u001b[0m\u001b[0mint\u001b[0m\u001b[0;34m)\u001b[0m\u001b[0;34m)\u001b[0m\u001b[0;34m:\u001b[0m\u001b[0;34m\u001b[0m\u001b[0;34m\u001b[0m\u001b[0m\n\u001b[1;32m    323\u001b[0m         \u001b[0;31m# [.1, .2, 3] or [[.1, .2, 3]] or [[1., .2]] and not [1., 2., 3.]\u001b[0m\u001b[0;34m\u001b[0m\u001b[0;34m\u001b[0m\u001b[0;34m\u001b[0m\u001b[0m\n\u001b[0;32m--> 324\u001b[0;31m         \u001b[0m_assert_all_finite\u001b[0m\u001b[0;34m(\u001b[0m\u001b[0my\u001b[0m\u001b[0;34m)\u001b[0m\u001b[0;34m\u001b[0m\u001b[0;34m\u001b[0m\u001b[0m\n\u001b[0m\u001b[1;32m    325\u001b[0m         \u001b[0;32mreturn\u001b[0m \u001b[0;34m\"continuous\"\u001b[0m \u001b[0;34m+\u001b[0m \u001b[0msuffix\u001b[0m\u001b[0;34m\u001b[0m\u001b[0;34m\u001b[0m\u001b[0m\n\u001b[1;32m    326\u001b[0m \u001b[0;34m\u001b[0m\u001b[0m\n",
            "\u001b[0;32m/usr/local/lib/python3.7/dist-packages/sklearn/utils/validation.py\u001b[0m in \u001b[0;36m_assert_all_finite\u001b[0;34m(X, allow_nan, msg_dtype)\u001b[0m\n\u001b[1;32m    114\u001b[0m             raise ValueError(\n\u001b[1;32m    115\u001b[0m                 msg_err.format(\n\u001b[0;32m--> 116\u001b[0;31m                     \u001b[0mtype_err\u001b[0m\u001b[0;34m,\u001b[0m \u001b[0mmsg_dtype\u001b[0m \u001b[0;32mif\u001b[0m \u001b[0mmsg_dtype\u001b[0m \u001b[0;32mis\u001b[0m \u001b[0;32mnot\u001b[0m \u001b[0;32mNone\u001b[0m \u001b[0;32melse\u001b[0m \u001b[0mX\u001b[0m\u001b[0;34m.\u001b[0m\u001b[0mdtype\u001b[0m\u001b[0;34m\u001b[0m\u001b[0;34m\u001b[0m\u001b[0m\n\u001b[0m\u001b[1;32m    117\u001b[0m                 )\n\u001b[1;32m    118\u001b[0m             )\n",
            "\u001b[0;31mValueError\u001b[0m: Input contains NaN, infinity or a value too large for dtype('float64')."
          ]
        }
      ],
      "source": [
        "from sklearn.model_selection import KFold\n",
        "from sklearn.linear_model import LinearRegression\n",
        "from sklearn.model_selection import train_test_split\n",
        "from sklearn.metrics import cohen_kappa_score\n",
        "import tensorflow as tf\n",
        "\n",
        "cv = KFold(n_splits = 5, shuffle = True)\n",
        "results = []\n",
        "y_pred_list = []\n",
        "\n",
        "count = 1\n",
        "for traincv, testcv in cv.split(X):\n",
        "    print(\"\\n--------Fold {}--------\\n\".format(count))\n",
        "    X_test, X_train, y_test, y_train = X.iloc[testcv], X.iloc[traincv], y.iloc[testcv], y.iloc[traincv]\n",
        "    #print(X_train.isna())\n",
        "    train_essays = X_train['Response']\n",
        "    test_essays = X_test['Response']\n",
        "    y_train=y_train\n",
        "    y_test=y_test\n",
        "    num_features = 128\n",
        "    min_word_count = 40\n",
        "    num_workers = 4\n",
        "    context = 10\n",
        "    downsampling = 1e-3\n",
        "    clean_train_essays = []\n",
        "    clean_test_essays=[]\n",
        "    #essays=train_essays\n",
        "    sentences=[]\n",
        "    l1=[]\n",
        "    l2=[]\n",
        "    for essay in train_essays:\n",
        "      sentences += essay_to_sentences(essay, remove_stopwords = False)\n",
        "  \n",
        "      #print(sentences)\n",
        "    for essay in test_essays:\n",
        "      sentences += essay_to_sentences(essay, remove_stopwords = False)\n",
        "\n",
        "    for essay_v in train_essays:\n",
        "      l1.append(len(sent_tokenize(essay_v)))\n",
        "      clean_train_essays.append(essay_to_sentences(essay_v, remove_stopwords=True))\n",
        "      #print(clean_train_essays)\n",
        "    a=np.array(l1)\n",
        "    print(np.max(a))\n",
        "    trainDataVecs = getAvgFeatureVecs(clean_train_essays, num_features,a)\n",
        "    for essay_v in test_essays:\n",
        "      l2.append(len(sent_tokenize(essay_v)))\n",
        "      clean_test_essays.append(essay_to_sentences(essay_v, remove_stopwords=True))\n",
        "    b=np.array(l2)\n",
        "    testDataVecs=getAvgFeatureVecs(clean_test_essays, num_features,b)\n",
        "    trainDataVecs=np.array(trainDataVecs)\n",
        "    testDataVecs = np.array(testDataVecs)\n",
        "    trainDataVecs=np.reshape(trainDataVecs,(trainDataVecs.shape[0],1,trainDataVecs.shape[1]))\n",
        "    testDataVecs = np.reshape(testDataVecs, (testDataVecs.shape[0], 1, testDataVecs.shape[1]))\n",
        "    print(b)\n",
        "    #print(y_train)\n",
        "    X_train, X_val, y_train, y_val = train_test_split(trainDataVecs, y_train, test_size=0.2, random_state=3)\n",
        "    lstm_model = get_model()\n",
        "    history=lstm_model.fit(X_train, y_train, batch_size=16, epochs=50,validation_data=(X_val, y_val))\n",
        "    \n",
        "    #history=lstm_model.fit(trainDataVecs, y_train, batch_size=64, epochs=30)\n",
        "    y_pred=(lstm_model.predict(testDataVecs))\n",
        "    #print(testDataVecs)\n",
        "    # Save any one of the 5 models.\n",
        "    if count == 6:\n",
        "      break\n",
        "         #lstm_model.save('./model_weights/final_lstm.h5')\n",
        "    \n",
        "    # Round y_pred to the nearest integer.\n",
        "    y_pred = np.around(y_pred)\n",
        "    #print(y_pred)\n",
        "    \n",
        "    # Evaluate the model on the evaluation metric. \"Quadratic mean averaged Kappa\"\n",
        "    result = cohen_kappa_score(y_test,y_pred,weights='quadratic')\n",
        "    print(\"Kappa Score: {}\".format(result))\n",
        "    results.append(result)\n",
        "    \n",
        "    count += 1"
      ]
    },
    {
      "cell_type": "code",
      "execution_count": null,
      "metadata": {
        "colab": {
          "base_uri": "https://localhost:8080/"
        },
        "id": "TbQBF-S24eOV",
        "outputId": "f7de39dc-93ba-486a-d1f4-9fc8518e4803"
      },
      "outputs": [
        {
          "output_type": "stream",
          "name": "stdout",
          "text": [
            "Average Kappa score after a 5-fold cross validation:  nan\n"
          ]
        },
        {
          "output_type": "stream",
          "name": "stderr",
          "text": [
            "/usr/local/lib/python3.7/dist-packages/ipykernel_launcher.py:1: RuntimeWarning: Mean of empty slice.\n",
            "  \"\"\"Entry point for launching an IPython kernel.\n",
            "/usr/local/lib/python3.7/dist-packages/numpy/core/_methods.py:189: RuntimeWarning: invalid value encountered in double_scalars\n",
            "  ret = ret.dtype.type(ret / rcount)\n"
          ]
        }
      ],
      "source": [
        "print(\"Average Kappa score after a 5-fold cross validation: \",np.around(np.array(results).mean(),decimals=3))"
      ]
    },
    {
      "cell_type": "code",
      "execution_count": null,
      "metadata": {
        "colab": {
          "base_uri": "https://localhost:8080/",
          "height": 295
        },
        "id": "3UEZmG3n4h4h",
        "outputId": "ffd8511d-3543-4e93-8661-fad260b9e388"
      },
      "outputs": [
        {
          "output_type": "display_data",
          "data": {
            "text/plain": [
              "<Figure size 432x288 with 1 Axes>"
            ],
            "image/png": "[encoded data removed]"
          },
          "metadata": {
            "needs_background": "light"
          }
        }
      ],
      "source": [
        "import matplotlib.pyplot as plt\n",
        "loss_train = history.history['loss']\n",
        "loss_val = history.history['val_loss']\n",
        "epochs = range(1,51)\n",
        "plt.plot(epochs, loss_train, 'g', label='Training loss')\n",
        "plt.plot(epochs, loss_val, 'b', label='validation loss')\n",
        "plt.title('Training and Validation loss')\n",
        "plt.xlabel('Epochs')\n",
        "plt.ylabel('Loss')\n",
        "plt.legend()\n",
        "plt.show()"
      ]
    },
    {
      "cell_type": "code",
      "execution_count": null,
      "metadata": {
        "id": "oRhAf0Kj4mi4"
      },
      "outputs": [],
      "source": [
        "print(y_test)\n",
        "import matplotlib.pyplot as plt\n",
        "x=np.arange(0,62)\n",
        "plt.title(\"actual vs predicted score\")\n",
        "plt.xlabel(\"essays\")\n",
        "plt.ylabel(\"score\")\n",
        "\n",
        "plt.scatter(x,y_test.values,color='r',label=\"actual score\")\n",
        "plt.scatter(x,y_pred,color='b',label=\"predicted score\")\n",
        "plt.tight_layout()\n",
        "plt.show()\n"
      ]
    }
  ],
  "metadata": {
    "colab": {
      "collapsed_sections": [],
      "provenance": []
    },
    "kernelspec": {
      "display_name": "Python 3",
      "name": "python3"
    },
    "language_info": {
      "name": "python"
    },
    "accelerator": "GPU",
    "gpuClass": "standard"
  },
  "nbformat": 4,
  "nbformat_minor": 0
}